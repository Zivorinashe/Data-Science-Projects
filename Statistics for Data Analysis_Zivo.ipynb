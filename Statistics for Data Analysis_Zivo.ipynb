{
 "cells": [
  {
   "cell_type": "markdown",
   "metadata": {},
   "source": [
    "# Descriptive Statistics for Data Analysis"
   ]
  },
  {
   "cell_type": "markdown",
   "metadata": {},
   "source": [
    "## 1. Objectives\n",
    "\n",
    "Statistics helps us to make informed decisions based on data by identifying patterns, predicting trends, and testing hypotheses. This allows analysts to avoid making uninformed assumptions and be confident in their decision-making process.\n",
    "\n",
    "Statistics is used in data analysis primairly for, but not limited to:\n",
    "* Summarizing complex information\n",
    "* Exploring and validating retnds/ patterns\n",
    "* Hypothesis Testing\n",
    "* Creating Probability Distributions\n",
    "* Everyone's favorite 'Machine Learning' - creating data- adaptive and responsive algorithms that power ML, and AI solutions\n",
    "\n",
    "Given our work, we will focus primarily on the first 3 uses, but if people would like to learn more about Machine Learning, feel free to let me know.\n",
    "\n",
    "A common comment to everyone has been about documenting you code. I will not be documenting this training and will expect people to document and explain what the functions are doing; alternative, please design your own functions as you work, and document them well, you creativity and feedom of expression is much welcomed in this training exercise.\n",
    "\n"
   ]
  },
  {
   "cell_type": "markdown",
   "metadata": {},
   "source": [
    "# 2. Importing Packages and Data"
   ]
  },
  {
   "cell_type": "code",
   "execution_count": 1,
   "metadata": {},
   "outputs": [],
   "source": [
    "# Import important packages\n",
    "import pandas as pd\n",
    "import seaborn as sns\n",
    "import matplotlib.pyplot as plt\n",
    "import numpy as np\n",
    "import scipy\n",
    "\n",
    "pd.set_option('display.max_colwidth', None)\n",
    "pd.set_option('display.colheader_justify', 'center')"
   ]
  },
  {
   "cell_type": "code",
   "execution_count": 2,
   "metadata": {},
   "outputs": [
    {
     "data": {
      "text/html": [
       "<div>\n",
       "<style scoped>\n",
       "    .dataframe tbody tr th:only-of-type {\n",
       "        vertical-align: middle;\n",
       "    }\n",
       "\n",
       "    .dataframe tbody tr th {\n",
       "        vertical-align: top;\n",
       "    }\n",
       "\n",
       "    .dataframe thead th {\n",
       "        text-align: right;\n",
       "    }\n",
       "</style>\n",
       "<table border=\"1\" class=\"dataframe\">\n",
       "  <thead>\n",
       "    <tr style=\"text-align: center;\">\n",
       "      <th></th>\n",
       "      <th>male</th>\n",
       "      <th>age</th>\n",
       "      <th>education</th>\n",
       "      <th>currentSmoker</th>\n",
       "      <th>cigsPerDay</th>\n",
       "      <th>BPMeds</th>\n",
       "      <th>prevalentStroke</th>\n",
       "      <th>prevalentHyp</th>\n",
       "      <th>diabetes</th>\n",
       "      <th>totChol</th>\n",
       "      <th>sysBP</th>\n",
       "      <th>diaBP</th>\n",
       "      <th>BMI</th>\n",
       "      <th>heartRate</th>\n",
       "      <th>glucose</th>\n",
       "      <th>TenYearCHD</th>\n",
       "    </tr>\n",
       "  </thead>\n",
       "  <tbody>\n",
       "    <tr>\n",
       "      <th>0</th>\n",
       "      <td>1</td>\n",
       "      <td>39</td>\n",
       "      <td>4.0</td>\n",
       "      <td>0</td>\n",
       "      <td>0.0</td>\n",
       "      <td>0.0</td>\n",
       "      <td>0</td>\n",
       "      <td>0</td>\n",
       "      <td>0</td>\n",
       "      <td>195.0</td>\n",
       "      <td>106.0</td>\n",
       "      <td>70.0</td>\n",
       "      <td>26.97</td>\n",
       "      <td>80.0</td>\n",
       "      <td>77.0</td>\n",
       "      <td>0</td>\n",
       "    </tr>\n",
       "    <tr>\n",
       "      <th>1</th>\n",
       "      <td>0</td>\n",
       "      <td>46</td>\n",
       "      <td>2.0</td>\n",
       "      <td>0</td>\n",
       "      <td>0.0</td>\n",
       "      <td>0.0</td>\n",
       "      <td>0</td>\n",
       "      <td>0</td>\n",
       "      <td>0</td>\n",
       "      <td>250.0</td>\n",
       "      <td>121.0</td>\n",
       "      <td>81.0</td>\n",
       "      <td>28.73</td>\n",
       "      <td>95.0</td>\n",
       "      <td>76.0</td>\n",
       "      <td>0</td>\n",
       "    </tr>\n",
       "    <tr>\n",
       "      <th>2</th>\n",
       "      <td>1</td>\n",
       "      <td>48</td>\n",
       "      <td>1.0</td>\n",
       "      <td>1</td>\n",
       "      <td>20.0</td>\n",
       "      <td>0.0</td>\n",
       "      <td>0</td>\n",
       "      <td>0</td>\n",
       "      <td>0</td>\n",
       "      <td>245.0</td>\n",
       "      <td>127.5</td>\n",
       "      <td>80.0</td>\n",
       "      <td>25.34</td>\n",
       "      <td>75.0</td>\n",
       "      <td>70.0</td>\n",
       "      <td>0</td>\n",
       "    </tr>\n",
       "    <tr>\n",
       "      <th>3</th>\n",
       "      <td>0</td>\n",
       "      <td>61</td>\n",
       "      <td>3.0</td>\n",
       "      <td>1</td>\n",
       "      <td>30.0</td>\n",
       "      <td>0.0</td>\n",
       "      <td>0</td>\n",
       "      <td>1</td>\n",
       "      <td>0</td>\n",
       "      <td>225.0</td>\n",
       "      <td>150.0</td>\n",
       "      <td>95.0</td>\n",
       "      <td>28.58</td>\n",
       "      <td>65.0</td>\n",
       "      <td>103.0</td>\n",
       "      <td>1</td>\n",
       "    </tr>\n",
       "    <tr>\n",
       "      <th>4</th>\n",
       "      <td>0</td>\n",
       "      <td>46</td>\n",
       "      <td>3.0</td>\n",
       "      <td>1</td>\n",
       "      <td>23.0</td>\n",
       "      <td>0.0</td>\n",
       "      <td>0</td>\n",
       "      <td>0</td>\n",
       "      <td>0</td>\n",
       "      <td>285.0</td>\n",
       "      <td>130.0</td>\n",
       "      <td>84.0</td>\n",
       "      <td>23.10</td>\n",
       "      <td>85.0</td>\n",
       "      <td>85.0</td>\n",
       "      <td>0</td>\n",
       "    </tr>\n",
       "  </tbody>\n",
       "</table>\n",
       "</div>"
      ],
      "text/plain": [
       "   male  age  education  currentSmoker  cigsPerDay  BPMeds  prevalentStroke  \\\n",
       "0    1   39      4.0           0            0.0       0.0          0          \n",
       "1    0   46      2.0           0            0.0       0.0          0          \n",
       "2    1   48      1.0           1           20.0       0.0          0          \n",
       "3    0   61      3.0           1           30.0       0.0          0          \n",
       "4    0   46      3.0           1           23.0       0.0          0          \n",
       "\n",
       "   prevalentHyp  diabetes  totChol  sysBP  diaBP   BMI   heartRate  glucose  \\\n",
       "0        0           0      195.0   106.0  70.0   26.97    80.0       77.0    \n",
       "1        0           0      250.0   121.0  81.0   28.73    95.0       76.0    \n",
       "2        0           0      245.0   127.5  80.0   25.34    75.0       70.0    \n",
       "3        1           0      225.0   150.0  95.0   28.58    65.0      103.0    \n",
       "4        0           0      285.0   130.0  84.0   23.10    85.0       85.0    \n",
       "\n",
       "   TenYearCHD  \n",
       "0       0      \n",
       "1       0      \n",
       "2       0      \n",
       "3       1      \n",
       "4       0      "
      ]
     },
     "execution_count": 2,
     "metadata": {},
     "output_type": "execute_result"
    }
   ],
   "source": [
    "path = '...'\n",
    "heart_disease_df = pd.read_csv('Heart Disease Data.csv')\n",
    "help_foundation_df = pd.read_excel('HELP Foundation Data.xlsx')\n",
    "\n",
    "heart_disease_df.head()"
   ]
  },
  {
   "cell_type": "markdown",
   "metadata": {},
   "source": [
    "# 3. Simple Descriptive Analytics"
   ]
  },
  {
   "cell_type": "markdown",
   "metadata": {},
   "source": [
    "## 3.1 Summarizing Distribution of Data\n",
    "\n",
    "Dataframes do not make sense to most non-analytical individuals. Most individuals are often looking for a single number, a comparison of numbers or patterns in data to justify and end, which could a business goal, decision, or any metric of importance. It is important to consider what your audience is trying learn once they hand you a dataset to analyze.\n",
    "\n",
    "### 3.1.1 Continuous Variables\n",
    "\n",
    "Key summary statistics to keep in mind when summarizing continuous variables:\n",
    "* mean, median, mode\n",
    "* standard deviation\n",
    "* minimum, maximum\n",
    "* interquartile range\n",
    "\n",
    "Let's find the mean age of people in the heart disease dataset:"
   ]
  },
  {
   "cell_type": "code",
   "execution_count": 3,
   "metadata": {},
   "outputs": [
    {
     "name": "stdout",
     "output_type": "stream",
     "text": [
      "Mean Age:  49.58\n"
     ]
    }
   ],
   "source": [
    "print('Mean Age: ', round(heart_disease_df['age'].mean(), 2))"
   ]
  },
  {
   "cell_type": "markdown",
   "metadata": {},
   "source": [
    "As with previous trainings, we have seen the power of automation. Let's create a function that can produce the mean or interquartile range of a column:"
   ]
  },
  {
   "cell_type": "code",
   "execution_count": 4,
   "metadata": {},
   "outputs": [
    {
     "name": "stdout",
     "output_type": "stream",
     "text": [
      "Interquartile Range (Q1, Q3):  14.0 ( 42.0 ,  56.0 )\n"
     ]
    }
   ],
   "source": [
    "def mean_iqr_function(df, variable, metric):\n",
    "    column = df[variable]\n",
    "    if metric == 'mean':\n",
    "       return print('Mean: ', round(column.mean(), 1))\n",
    "    else:\n",
    "        q1 = round(np.quantile(column, 0.25), 1)\n",
    "        q3 = round(np.quantile(column, 0.75), 1)\n",
    "        iqr = q3 - q1\n",
    "        return print('Interquartile Range (Q1, Q3): ', iqr, '(', q1, ', ', q3, ')')\n",
    "\n",
    "mean_iqr_function(heart_disease_df, 'age', 'iqr')\n"
   ]
  },
  {
   "cell_type": "markdown",
   "metadata": {},
   "source": [
    "Modify the above function and rename to summary_statistics. Add the following new varables: median, mode, standard deviation, min and max to its logic, so the use can have more than mean and IQR as metrics:"
   ]
  },
  {
   "cell_type": "code",
   "execution_count": 18,
   "metadata": {},
   "outputs": [
    {
     "name": "stdout",
     "output_type": "stream",
     "text": [
      "  Interquartile Range (Q1, Q3): 14.0 (42.0, 56.0)\n"
     ]
    }
   ],
   "source": [
    "#answer here\n",
    "def summary_statistics(df, variable):\n",
    "\n",
    "    column = df[variable]\n",
    "\n",
    "    mean_value = round(column.mean(), 1)\n",
    "    median_value = round(column.median(), 1)\n",
    "    mode_value = column.mode().iloc[0]\n",
    "    std_dev_value = round(column.std(), 1)\n",
    "    min_value = round(column.min(), 1)\n",
    "    max_value = round(column.max(), 1)\n",
    "\n",
    "    q1 = round(np.quantile(column, 0.25), 1)\n",
    "    q3 = round(np.quantile(column, 0.75), 1)\n",
    "    iqr = q3 - q1\n",
    "    \n",
    "    print(f\"  Interquartile Range (Q1, Q3): {iqr} ({q1}, {q3})\")\n",
    "\n",
    "summary_statistics(heart_disease_df, 'age')\n"
   ]
  },
  {
   "cell_type": "markdown",
   "metadata": {},
   "source": [
    "Run the describe attribute in pandas on heart disease age and describe the information you see:"
   ]
  },
  {
   "cell_type": "code",
   "execution_count": 7,
   "metadata": {},
   "outputs": [
    {
     "name": "stdout",
     "output_type": "stream",
     "text": [
      "count    4238.000000\n",
      "mean       49.584946\n",
      "std         8.572160\n",
      "min        32.000000\n",
      "25%        42.000000\n",
      "50%        49.000000\n",
      "75%        56.000000\n",
      "max        70.000000\n",
      "Name: age, dtype: float64\n"
     ]
    }
   ],
   "source": [
    "#answer here\n",
    "import pandas as pd\n",
    "\n",
    "describe_age = heart_disease_df['age'].describe()\n",
    "\n",
    "# Print the result\n",
    "print(describe_age)\n"
   ]
  },
  {
   "cell_type": "markdown",
   "metadata": {},
   "source": [
    "Find the summary statistics of age for males and females using one line:"
   ]
  },
  {
   "cell_type": "code",
   "execution_count": 8,
   "metadata": {},
   "outputs": [
    {
     "name": "stdout",
     "output_type": "stream",
     "text": [
      "       count    mean        std     min   25%   50%   75%   max\n",
      "male                                                           \n",
      "0     2419.0  49.800331  8.596856  32.0  42.0  49.0  57.0  70.0\n",
      "1     1819.0  49.298516  8.533146  33.0  42.0  48.0  56.0  69.0\n"
     ]
    }
   ],
   "source": [
    "#answer here\n",
    "import pandas as pd\n",
    "\n",
    "summary_statistics_by_gender = heart_disease_df.groupby('male')['age'].describe()\n",
    "\n",
    "# Print the result\n",
    "print(summary_statistics_by_gender)\n"
   ]
  },
  {
   "cell_type": "markdown",
   "metadata": {},
   "source": [
    "### 3.1.2 Categorical Variables\n",
    "\n",
    "Categorical variables are best sumamrized using percentages. What proportion of the group has experienced an event or an outcome of interest. Consider a simple distribution of gender in the heart disease dataset:"
   ]
  },
  {
   "cell_type": "code",
   "execution_count": 9,
   "metadata": {},
   "outputs": [
    {
     "name": "stdout",
     "output_type": "stream",
     "text": [
      "Percent of data that is Female:  42.9 %\n"
     ]
    }
   ],
   "source": [
    "print('Percent of data that is Female: ', round(100*heart_disease_df[heart_disease_df['male'] == 1].shape[0]/heart_disease_df.shape[0], 1), '%')"
   ]
  },
  {
   "cell_type": "markdown",
   "metadata": {},
   "source": [
    "Write a fucntion that returns the number of individuals meeting the criteria, and their associated percentage e.g males: 1,819 (42.9%). Name it percent_calculator, and use it to calcualte the number and percentage of patients who are current smokers. Make sure to format your numbers correctly, that is, use thousand operators accordingly e.g we should not see 1819 but rather 1,819.\n",
    "\n",
    "HINT: f'{:,}'"
   ]
  },
  {
   "cell_type": "code",
   "execution_count": 10,
   "metadata": {
    "scrolled": true
   },
   "outputs": [
    {
     "name": "stdout",
     "output_type": "stream",
     "text": [
      "Number of current smokers: 2,094 (49.4%)\n"
     ]
    },
    {
     "data": {
      "text/plain": [
       "49.4"
      ]
     },
     "execution_count": 10,
     "metadata": {},
     "output_type": "execute_result"
    }
   ],
   "source": [
    "#answer here\n",
    "def percent_calculator(data_frame, condition_column, condition_value, display_name):\n",
    "   \n",
    "    # Filtering the DataFrame based on the condition\n",
    "    subset_df = data_frame[data_frame[condition_column] == condition_value]\n",
    "\n",
    "    # Calculate the number of individuals and percentage\n",
    "    num_individuals = subset_df.shape[0]\n",
    "    percentage = round(100 * num_individuals / data_frame.shape[0], 1)\n",
    "\n",
    "    # Print the result\n",
    "    print(f'Number of {display_name}: {num_individuals:,} ({percentage}%)')\n",
    "    return percentage\n",
    "\n",
    "percent_calculator(heart_disease_df, 'currentSmoker', 1, 'current smokers')\n"
   ]
  },
  {
   "cell_type": "markdown",
   "metadata": {},
   "source": [
    "### 3.1.3 Presenting Summaries of Sumamry Statistics\n",
    "\n",
    "The above code is great for us, but it does not really help our audience since they want to see the results as either tables or plots. We have already done both, creating tables, adn plots. Let's bring our functions and creating tables into one unit to provide our audience with summarized insights.\n",
    "\n",
    "Let's say we have a simple objective, create a table with age, summarized, for all pateints, males and females as below:\n",
    "\n",
    "| |All|Female|Male|\n",
    "|:--:|:--:|:--:|:--:|\n",
    "|Number of Patients, N||||\n",
    "|Age||||\n",
    "|Mean (SD)||||\n",
    "|Median (IQR)||||\n",
    "|Min (Max)||||\n",
    "\n",
    "We can create a function, that represents the full table of variables we'd want to analyze, and then loop over the function for all patients, females and then males"
   ]
  },
  {
   "cell_type": "code",
   "execution_count": 11,
   "metadata": {},
   "outputs": [],
   "source": [
    "def summary_statistics(df, variable, metric):\n",
    "    column = df[variable]\n",
    "    if metric == 'mean_sd':\n",
    "       mean = round(column.mean(), 1)\n",
    "       sd = round(column.std(), 1)\n",
    "       mean_sd = str(mean)+' ('+str(sd)+')'\n",
    "       return mean_sd\n",
    "    elif metric == 'median_iqr':\n",
    "        median = round(column.median(), 1)\n",
    "        q1 = round(np.quantile(column, 0.25), 1)\n",
    "        q3 = round(np.quantile(column, 0.75), 1)\n",
    "        iqr = q3 - q1\n",
    "        median_iqr = str(median)+' ('+str(iqr)+')'\n",
    "        return median_iqr\n",
    "    elif metric == 'min_max':\n",
    "       min = round(column.min(), 1)\n",
    "       max = round(column.max(), 1)\n",
    "       min_max = str(min)+' ('+str(max)+')'\n",
    "       return min_max\n",
    "    else:\n",
    "        return 'Incorrect Implementation'"
   ]
  },
  {
   "cell_type": "code",
   "execution_count": 12,
   "metadata": {},
   "outputs": [
    {
     "data": {
      "text/html": [
       "<div>\n",
       "<style scoped>\n",
       "    .dataframe tbody tr th:only-of-type {\n",
       "        vertical-align: middle;\n",
       "    }\n",
       "\n",
       "    .dataframe tbody tr th {\n",
       "        vertical-align: top;\n",
       "    }\n",
       "\n",
       "    .dataframe thead th {\n",
       "        text-align: right;\n",
       "    }\n",
       "</style>\n",
       "<table border=\"1\" class=\"dataframe\">\n",
       "  <thead>\n",
       "    <tr style=\"text-align: center;\">\n",
       "      <th></th>\n",
       "      <th>Variable</th>\n",
       "      <th>All</th>\n",
       "    </tr>\n",
       "  </thead>\n",
       "  <tbody>\n",
       "    <tr>\n",
       "      <th>0</th>\n",
       "      <td>Number of Patients</td>\n",
       "      <td>4,238</td>\n",
       "    </tr>\n",
       "    <tr>\n",
       "      <th>1</th>\n",
       "      <td>Age</td>\n",
       "      <td></td>\n",
       "    </tr>\n",
       "    <tr>\n",
       "      <th>2</th>\n",
       "      <td>Mean (SD)</td>\n",
       "      <td>49.6 (8.6)</td>\n",
       "    </tr>\n",
       "    <tr>\n",
       "      <th>3</th>\n",
       "      <td>Median (IQR)</td>\n",
       "      <td>49.0 (14.0)</td>\n",
       "    </tr>\n",
       "    <tr>\n",
       "      <th>4</th>\n",
       "      <td>Min (Max)</td>\n",
       "      <td>32 (70)</td>\n",
       "    </tr>\n",
       "  </tbody>\n",
       "</table>\n",
       "</div>"
      ],
      "text/plain": [
       "        Variable          All     \n",
       "0  Number of Patients        4,238\n",
       "1                 Age             \n",
       "2           Mean (SD)   49.6 (8.6)\n",
       "3        Median (IQR)  49.0 (14.0)\n",
       "4           Min (Max)      32 (70)"
      ]
     },
     "execution_count": 12,
     "metadata": {},
     "output_type": "execute_result"
    }
   ],
   "source": [
    "\n",
    "def table_summary(df, group_name):\n",
    "\n",
    "    table = [\n",
    "        ('Number of Patients', f'{df.shape[0]:,}'),\n",
    "        ('Age', ''),\n",
    "        ('Mean (SD)', summary_statistics(df, 'age', 'mean_sd')),\n",
    "        ('Median (IQR)', summary_statistics(df, 'age', 'median_iqr')),\n",
    "        ('Min (Max)', summary_statistics(df, 'age', 'min_max'))\n",
    "    ]\n",
    "\n",
    "    columns = ['Variable', group_name]\n",
    "\n",
    "    results = pd.DataFrame(table, columns = columns)\n",
    "\n",
    "    return results\n",
    "\n",
    "table_summary(heart_disease_df, 'All')"
   ]
  },
  {
   "cell_type": "markdown",
   "metadata": {},
   "source": [
    "This result table can then be looped across other data, such as male data and female data to create the required table:"
   ]
  },
  {
   "cell_type": "code",
   "execution_count": 13,
   "metadata": {
    "scrolled": true
   },
   "outputs": [
    {
     "data": {
      "text/html": [
       "<div>\n",
       "<style scoped>\n",
       "    .dataframe tbody tr th:only-of-type {\n",
       "        vertical-align: middle;\n",
       "    }\n",
       "\n",
       "    .dataframe tbody tr th {\n",
       "        vertical-align: top;\n",
       "    }\n",
       "\n",
       "    .dataframe thead th {\n",
       "        text-align: right;\n",
       "    }\n",
       "</style>\n",
       "<table border=\"1\" class=\"dataframe\">\n",
       "  <thead>\n",
       "    <tr style=\"text-align: center;\">\n",
       "      <th></th>\n",
       "      <th>Variable</th>\n",
       "      <th>All</th>\n",
       "      <th>Female</th>\n",
       "      <th>Male</th>\n",
       "    </tr>\n",
       "  </thead>\n",
       "  <tbody>\n",
       "    <tr>\n",
       "      <th>0</th>\n",
       "      <td>Number of Patients</td>\n",
       "      <td>4,238</td>\n",
       "      <td>2,419</td>\n",
       "      <td>1,819</td>\n",
       "    </tr>\n",
       "    <tr>\n",
       "      <th>1</th>\n",
       "      <td>Age</td>\n",
       "      <td></td>\n",
       "      <td></td>\n",
       "      <td></td>\n",
       "    </tr>\n",
       "    <tr>\n",
       "      <th>2</th>\n",
       "      <td>Mean (SD)</td>\n",
       "      <td>49.6 (8.6)</td>\n",
       "      <td>49.8 (8.6)</td>\n",
       "      <td>49.3 (8.5)</td>\n",
       "    </tr>\n",
       "    <tr>\n",
       "      <th>3</th>\n",
       "      <td>Median (IQR)</td>\n",
       "      <td>49.0 (14.0)</td>\n",
       "      <td>49.0 (15.0)</td>\n",
       "      <td>48.0 (14.0)</td>\n",
       "    </tr>\n",
       "    <tr>\n",
       "      <th>4</th>\n",
       "      <td>Min (Max)</td>\n",
       "      <td>32 (70)</td>\n",
       "      <td>32 (70)</td>\n",
       "      <td>33 (69)</td>\n",
       "    </tr>\n",
       "  </tbody>\n",
       "</table>\n",
       "</div>"
      ],
      "text/plain": [
       "        Variable          All         Female        Male    \n",
       "0  Number of Patients        4,238        2,419        1,819\n",
       "1                 Age                                       \n",
       "2           Mean (SD)   49.6 (8.6)   49.8 (8.6)   49.3 (8.5)\n",
       "3        Median (IQR)  49.0 (14.0)  49.0 (15.0)  48.0 (14.0)\n",
       "4           Min (Max)      32 (70)      32 (70)      33 (69)"
      ]
     },
     "execution_count": 13,
     "metadata": {},
     "output_type": "execute_result"
    }
   ],
   "source": [
    "pd.concat(\n",
    "    [table_summary(heart_disease_df, 'All'),\n",
    "     table_summary(heart_disease_df[heart_disease_df['male'] == 0], 'Female')['Female'],\n",
    "     table_summary(heart_disease_df[heart_disease_df['male'] == 1], 'Male')['Male']\n",
    "     ],\n",
    "    axis = 1\n",
    ")"
   ]
  },
  {
   "cell_type": "markdown",
   "metadata": {},
   "source": [
    "Update the table_summary function to include the distribution of categorical variables. Let's start by adding the distribution of gender and smoking status, using the percent_calculator function, such that our table looks as below:\n",
    "\n",
    "| |All|Female|Male|\n",
    "|:--:|:--:|:--:|:--:|\n",
    "|Number of Patients, N||||\n",
    "|Age||||\n",
    "|Mean (SD)||||\n",
    "|Median (IQR)||||\n",
    "|Min (Max)||||\n",
    "|Gender||||\n",
    "|Female, n (%)||||\n",
    "|Male, n (%)||||\n",
    "|Current Smoker||||\n",
    "|Yes, n (%)||||\n",
    "|No, n (%)||||"
   ]
  },
  {
   "cell_type": "code",
   "execution_count": 14,
   "metadata": {},
   "outputs": [
    {
     "name": "stdout",
     "output_type": "stream",
     "text": [
      "Number of Yes,n(%): 2,094 (49.4%)\n",
      "Number of Yes,n(%): 2,144 (50.6%)\n"
     ]
    },
    {
     "data": {
      "text/html": [
       "<div>\n",
       "<style scoped>\n",
       "    .dataframe tbody tr th:only-of-type {\n",
       "        vertical-align: middle;\n",
       "    }\n",
       "\n",
       "    .dataframe tbody tr th {\n",
       "        vertical-align: top;\n",
       "    }\n",
       "\n",
       "    .dataframe thead th {\n",
       "        text-align: right;\n",
       "    }\n",
       "</style>\n",
       "<table border=\"1\" class=\"dataframe\">\n",
       "  <thead>\n",
       "    <tr style=\"text-align: center;\">\n",
       "      <th></th>\n",
       "      <th>Variable</th>\n",
       "      <th>All</th>\n",
       "    </tr>\n",
       "  </thead>\n",
       "  <tbody>\n",
       "    <tr>\n",
       "      <th>0</th>\n",
       "      <td>Number of Patients</td>\n",
       "      <td>4,238</td>\n",
       "    </tr>\n",
       "    <tr>\n",
       "      <th>1</th>\n",
       "      <td>Age</td>\n",
       "      <td></td>\n",
       "    </tr>\n",
       "    <tr>\n",
       "      <th>2</th>\n",
       "      <td>Mean (SD)</td>\n",
       "      <td>49.6 (8.6)</td>\n",
       "    </tr>\n",
       "    <tr>\n",
       "      <th>3</th>\n",
       "      <td>Median (IQR)</td>\n",
       "      <td>49.0 (14.0)</td>\n",
       "    </tr>\n",
       "    <tr>\n",
       "      <th>4</th>\n",
       "      <td>Min (Max)</td>\n",
       "      <td>32 (70)</td>\n",
       "    </tr>\n",
       "    <tr>\n",
       "      <th>5</th>\n",
       "      <td>Gender</td>\n",
       "      <td></td>\n",
       "    </tr>\n",
       "    <tr>\n",
       "      <th>6</th>\n",
       "      <td>Female, n(%)</td>\n",
       "      <td>42.9</td>\n",
       "    </tr>\n",
       "    <tr>\n",
       "      <th>7</th>\n",
       "      <td>Female, n(%)</td>\n",
       "      <td>57.1</td>\n",
       "    </tr>\n",
       "    <tr>\n",
       "      <th>8</th>\n",
       "      <td>Current Smoker</td>\n",
       "      <td></td>\n",
       "    </tr>\n",
       "    <tr>\n",
       "      <th>9</th>\n",
       "      <td>Yes, n(%)</td>\n",
       "      <td>49.4</td>\n",
       "    </tr>\n",
       "    <tr>\n",
       "      <th>10</th>\n",
       "      <td>No, n(%)</td>\n",
       "      <td>50.6</td>\n",
       "    </tr>\n",
       "  </tbody>\n",
       "</table>\n",
       "</div>"
      ],
      "text/plain": [
       "         Variable          All     \n",
       "0   Number of Patients        4,238\n",
       "1                  Age             \n",
       "2            Mean (SD)   49.6 (8.6)\n",
       "3         Median (IQR)  49.0 (14.0)\n",
       "4            Min (Max)      32 (70)\n",
       "5               Gender             \n",
       "6         Female, n(%)         42.9\n",
       "7         Female, n(%)         57.1\n",
       "8       Current Smoker             \n",
       "9            Yes, n(%)         49.4\n",
       "10            No, n(%)         50.6"
      ]
     },
     "execution_count": 14,
     "metadata": {},
     "output_type": "execute_result"
    }
   ],
   "source": [
    "#answer here\n",
    "def table_summary(df, group_name):\n",
    "\n",
    "    table = [\n",
    "        ('Number of Patients', f'{df.shape[0]:,}'),\n",
    "        ('Age', ''),\n",
    "        ('Mean (SD)', summary_statistics(df, 'age', 'mean_sd')),\n",
    "        ('Median (IQR)', summary_statistics(df, 'age', 'median_iqr')),\n",
    "        ('Min (Max)', summary_statistics(df, 'age', 'min_max')),\n",
    "        ('Gender', ''),\n",
    "        ('Female, n(%)', round(100*df[df['male'] == 1].shape[0]/df.shape[0], 1)),\n",
    "        ('Female, n(%)', round(100*df[df['male'] == 0].shape[0]/df.shape[0], 1)),\n",
    "        ('Current Smoker', ''),\n",
    "        ('Yes, n(%)', percent_calculator(df, 'currentSmoker', 1, 'Yes,n(%)')),\n",
    "        ('No, n(%)', percent_calculator(df, 'currentSmoker', 0, 'Yes,n(%)'))\n",
    " \n",
    "    ]\n",
    "\n",
    "    columns = ['Variable', group_name]\n",
    "\n",
    "    results = pd.DataFrame(table, columns = columns)\n",
    "\n",
    "    return results\n",
    "\n",
    "table_summary(heart_disease_df, 'All')"
   ]
  },
  {
   "cell_type": "markdown",
   "metadata": {},
   "source": [
    "# 4. Incorporating Plots Into Summary Statistics"
   ]
  },
  {
   "cell_type": "markdown",
   "metadata": {},
   "source": [
    "## 4.1 Visualization of Distributions\n",
    "\n",
    "### 4.1.1 Understanding Distribution of Data\n",
    "\n",
    "In addition to providing a metric (specific number such as mean, median etc.) it is important to understand the distribution of data. When visualizing data, a few key items need to be taken into account:\n",
    "* What is the distribution of the data?\n",
    "* What is the skew of the data?\n",
    "* What are the outliers in the data\n",
    "\n",
    "and then decisions can then be made as to how to best analyze the data given the answers to the above questions.\n",
    "\n",
    "Let's taken an example of, the distribution of child mortality in the HELP Foundation dataset:"
   ]
  },
  {
   "cell_type": "code",
   "execution_count": 19,
   "metadata": {},
   "outputs": [
    {
     "data": {
      "image/png": "[encoded data removed]",
      "text/plain": [
       "<Figure size 720x360 with 1 Axes>"
      ]
     },
     "metadata": {
      "needs_background": "light"
     },
     "output_type": "display_data"
    },
    {
     "data": {
      "text/plain": [
       "'\\n1. What sort of distribution is this?\\n#Log normal\\n\\n2. What sort of skew are you seeing in the distribution below?\\n#right-skewed distribution\\n\\n'"
      ]
     },
     "execution_count": 19,
     "metadata": {},
     "output_type": "execute_result"
    }
   ],
   "source": [
    "plt.figure(figsize=(10,5))\n",
    "sns.histplot(help_foundation_df['child_mort'],bins = 100, kde = True, color = '#0091ff')\n",
    "plt.xlim(0, help_foundation_df['child_mort'].max()+5)\n",
    "plt.xlabel('Child Mortality')\n",
    "plt.ylabel('Count')\n",
    "plt.title('Distribution of Child Mortality')\n",
    "plt.show()\n",
    "\n",
    "# Please answer the following questions below:\n",
    "\n",
    "\"\"\"\n",
    "1. What sort of distribution is this?\n",
    "#Log normal\n",
    "\n",
    "2. What sort of skew are you seeing in the distribution below?\n",
    "#right-skewed distribution\n",
    "\n",
    "\"\"\""
   ]
  },
  {
   "cell_type": "markdown",
   "metadata": {},
   "source": [
    "The data above has some sort of skew, and I can see a lot of potential outliers. What mathematical/ statistical tools do we have at hand to describe outliers in our data?\n",
    "\n",
    "Let's take a look below.\n",
    "\n",
    "### 4.1.2 Outlier Analysis\n",
    "\n",
    "We have a few options but some good visual tools to find outliers:\n",
    "* Histogram, as seen above\n",
    "* Box Plots\n",
    "* Using quartile/ quantile distributions (statistical)\n",
    "\n",
    "Lets start with box plots:"
   ]
  },
  {
   "cell_type": "code",
   "execution_count": 20,
   "metadata": {},
   "outputs": [
    {
     "data": {
      "image/png": "[encoded data removed]",
      "text/plain": [
       "<Figure size 720x360 with 1 Axes>"
      ]
     },
     "metadata": {
      "needs_background": "light"
     },
     "output_type": "display_data"
    }
   ],
   "source": [
    "plt.figure(figsize=(10,5))\n",
    "sns.boxplot(x = help_foundation_df['child_mort'], color = '#0091ff')\n",
    "plt.xlim(0, help_foundation_df['child_mort'].max()+5)\n",
    "plt.xlabel('Child Mortality')\n",
    "plt.ylabel('Distribution')\n",
    "plt.title('Boxplot of Child Mortality')\n",
    "plt.show()"
   ]
  },
  {
   "cell_type": "markdown",
   "metadata": {},
   "source": [
    "We can extract these outliers statistically by using quantiles and actually see which values are the outliers. Please read more into the forumal for box plots as the logic is used below. We will create a function so we never have to repeat the process:"
   ]
  },
  {
   "cell_type": "code",
   "execution_count": 21,
   "metadata": {},
   "outputs": [
    {
     "data": {
      "text/html": [
       "<div>\n",
       "<style scoped>\n",
       "    .dataframe tbody tr th:only-of-type {\n",
       "        vertical-align: middle;\n",
       "    }\n",
       "\n",
       "    .dataframe tbody tr th {\n",
       "        vertical-align: top;\n",
       "    }\n",
       "\n",
       "    .dataframe thead th {\n",
       "        text-align: right;\n",
       "    }\n",
       "</style>\n",
       "<table border=\"1\" class=\"dataframe\">\n",
       "  <thead>\n",
       "    <tr style=\"text-align: center;\">\n",
       "      <th></th>\n",
       "      <th>country</th>\n",
       "      <th>child_mort</th>\n",
       "      <th>exports</th>\n",
       "      <th>health</th>\n",
       "      <th>imports</th>\n",
       "      <th>income</th>\n",
       "      <th>inflation</th>\n",
       "      <th>life_expec</th>\n",
       "      <th>total_fer</th>\n",
       "      <th>gdpp</th>\n",
       "    </tr>\n",
       "  </thead>\n",
       "  <tbody>\n",
       "    <tr>\n",
       "      <th>31</th>\n",
       "      <td>Central African Republic</td>\n",
       "      <td>149.0</td>\n",
       "      <td>11.8</td>\n",
       "      <td>3.98</td>\n",
       "      <td>26.5</td>\n",
       "      <td>888</td>\n",
       "      <td>2.01</td>\n",
       "      <td>47.5</td>\n",
       "      <td>5.21</td>\n",
       "      <td>446</td>\n",
       "    </tr>\n",
       "    <tr>\n",
       "      <th>32</th>\n",
       "      <td>Chad</td>\n",
       "      <td>150.0</td>\n",
       "      <td>36.8</td>\n",
       "      <td>4.53</td>\n",
       "      <td>43.5</td>\n",
       "      <td>1930</td>\n",
       "      <td>6.39</td>\n",
       "      <td>56.5</td>\n",
       "      <td>6.59</td>\n",
       "      <td>897</td>\n",
       "    </tr>\n",
       "    <tr>\n",
       "      <th>132</th>\n",
       "      <td>Sierra Leone</td>\n",
       "      <td>160.0</td>\n",
       "      <td>16.8</td>\n",
       "      <td>13.10</td>\n",
       "      <td>34.5</td>\n",
       "      <td>1220</td>\n",
       "      <td>17.20</td>\n",
       "      <td>55.0</td>\n",
       "      <td>5.20</td>\n",
       "      <td>399</td>\n",
       "    </tr>\n",
       "    <tr>\n",
       "      <th>66</th>\n",
       "      <td>Haiti</td>\n",
       "      <td>208.0</td>\n",
       "      <td>15.3</td>\n",
       "      <td>6.91</td>\n",
       "      <td>64.7</td>\n",
       "      <td>1500</td>\n",
       "      <td>5.45</td>\n",
       "      <td>32.1</td>\n",
       "      <td>3.33</td>\n",
       "      <td>662</td>\n",
       "    </tr>\n",
       "  </tbody>\n",
       "</table>\n",
       "</div>"
      ],
      "text/plain": [
       "             country           child_mort  exports  health  imports  income  \\\n",
       "31   Central African Republic     149.0     11.8      3.98   26.5      888    \n",
       "32                       Chad     150.0     36.8      4.53   43.5     1930    \n",
       "132              Sierra Leone     160.0     16.8     13.10   34.5     1220    \n",
       "66                      Haiti     208.0     15.3      6.91   64.7     1500    \n",
       "\n",
       "     inflation  life_expec  total_fer  gdpp  \n",
       "31      2.01       47.5       5.21      446  \n",
       "32      6.39       56.5       6.59      897  \n",
       "132    17.20       55.0       5.20      399  \n",
       "66      5.45       32.1       3.33      662  "
      ]
     },
     "execution_count": 21,
     "metadata": {},
     "output_type": "execute_result"
    }
   ],
   "source": [
    "def outliers(df, variable):\n",
    "    q1 = df[variable].quantile(0.25)\n",
    "    q3 = df[variable].quantile(0.75)\n",
    "\n",
    "    iqr = q3 - q1\n",
    "\n",
    "    bottom_outlier_cut_off = q1 - (1.5*iqr)\n",
    "    top_outlier_cut_off = q3 + (1.5*iqr)\n",
    "\n",
    "    #return entire dataset with outliers based on the variable of interest\n",
    "\n",
    "    result = df[(df[variable] < bottom_outlier_cut_off) | (df[variable] > top_outlier_cut_off)].sort_values(by = variable)\n",
    "\n",
    "    return result\n",
    "\n",
    "outliers(help_foundation_df, 'child_mort')"
   ]
  },
  {
   "cell_type": "markdown",
   "metadata": {},
   "source": [
    "A decision, on your part, will then have to be made as to whether you will use these outliers in your analysis or drop them entirely. This will be up to you.\n",
    "\n",
    "The last aspect we will focus on is the visual distribution of a variable against another variable. \n",
    "\n",
    "### 4.1.3 Correlation\n",
    "\n",
    "Correlation describes the relationship between a pair of variables. Correlation varies from -1 to 1 with the following definitions:\n",
    "* closer to 1: high postiive correlation (increase A and B increase too)\n",
    "* 0: no correlation\n",
    "* closer to -1: high negative correlation (increase A and B decreases)\n",
    "\n",
    "Generally, correlation under -0.6 and over +0.6 is considered good correlation, but it is always contextual to what you are assessing and what your goals are.\n",
    "\n",
    "Let's start by finding the correlation between inflation and life expectancy using the Pandas corr() module:"
   ]
  },
  {
   "cell_type": "code",
   "execution_count": 25,
   "metadata": {},
   "outputs": [
    {
     "data": {
      "text/html": [
       "<div>\n",
       "<style scoped>\n",
       "    .dataframe tbody tr th:only-of-type {\n",
       "        vertical-align: middle;\n",
       "    }\n",
       "\n",
       "    .dataframe tbody tr th {\n",
       "        vertical-align: top;\n",
       "    }\n",
       "\n",
       "    .dataframe thead th {\n",
       "        text-align: right;\n",
       "    }\n",
       "</style>\n",
       "<table border=\"1\" class=\"dataframe\">\n",
       "  <thead>\n",
       "    <tr style=\"text-align: center;\">\n",
       "      <th></th>\n",
       "      <th>inflation</th>\n",
       "      <th>life_expec</th>\n",
       "    </tr>\n",
       "  </thead>\n",
       "  <tbody>\n",
       "    <tr>\n",
       "      <th>inflation</th>\n",
       "      <td>1.000000</td>\n",
       "      <td>-0.239705</td>\n",
       "    </tr>\n",
       "    <tr>\n",
       "      <th>life_expec</th>\n",
       "      <td>-0.239705</td>\n",
       "      <td>1.000000</td>\n",
       "    </tr>\n",
       "  </tbody>\n",
       "</table>\n",
       "</div>"
      ],
      "text/plain": [
       "            inflation  life_expec\n",
       "inflation   1.000000   -0.239705 \n",
       "life_expec -0.239705    1.000000 "
      ]
     },
     "execution_count": 25,
     "metadata": {},
     "output_type": "execute_result"
    }
   ],
   "source": [
    "help_foundation_df[['inflation', 'life_expec']].corr()"
   ]
  },
  {
   "cell_type": "markdown",
   "metadata": {},
   "source": [
    "Two methods are generally available, the Pearson's and Kendall's correlation, with pandas using the Person's as default. What's the correlation when we use endall's correlation?"
   ]
  },
  {
   "cell_type": "code",
   "execution_count": 22,
   "metadata": {},
   "outputs": [
    {
     "data": {
      "text/html": [
       "<div>\n",
       "<style scoped>\n",
       "    .dataframe tbody tr th:only-of-type {\n",
       "        vertical-align: middle;\n",
       "    }\n",
       "\n",
       "    .dataframe tbody tr th {\n",
       "        vertical-align: top;\n",
       "    }\n",
       "\n",
       "    .dataframe thead th {\n",
       "        text-align: right;\n",
       "    }\n",
       "</style>\n",
       "<table border=\"1\" class=\"dataframe\">\n",
       "  <thead>\n",
       "    <tr style=\"text-align: center;\">\n",
       "      <th></th>\n",
       "      <th>inflation</th>\n",
       "      <th>life_expec</th>\n",
       "    </tr>\n",
       "  </thead>\n",
       "  <tbody>\n",
       "    <tr>\n",
       "      <th>inflation</th>\n",
       "      <td>1.000000</td>\n",
       "      <td>-0.290992</td>\n",
       "    </tr>\n",
       "    <tr>\n",
       "      <th>life_expec</th>\n",
       "      <td>-0.290992</td>\n",
       "      <td>1.000000</td>\n",
       "    </tr>\n",
       "  </tbody>\n",
       "</table>\n",
       "</div>"
      ],
      "text/plain": [
       "            inflation  life_expec\n",
       "inflation   1.000000   -0.290992 \n",
       "life_expec -0.290992    1.000000 "
      ]
     },
     "execution_count": 22,
     "metadata": {},
     "output_type": "execute_result"
    }
   ],
   "source": [
    "#answer here\n",
    "help_foundation_df[['inflation', 'life_expec']].corr(method='kendall')"
   ]
  },
  {
   "cell_type": "code",
   "execution_count": 23,
   "metadata": {},
   "outputs": [
    {
     "data": {
      "text/plain": [
       "<Figure size 720x432 with 0 Axes>"
      ]
     },
     "metadata": {},
     "output_type": "display_data"
    },
    {
     "data": {
      "image/png": "[encoded data removed]",
      "text/plain": [
       "<Figure size 360x360 with 1 Axes>"
      ]
     },
     "metadata": {
      "needs_background": "light"
     },
     "output_type": "display_data"
    }
   ],
   "source": [
    "plt.figure(figsize=(10, 6))\n",
    "sns.lmplot(x = 'inflation', y = 'life_expec', data = help_foundation_df)\n",
    "plt.xlabel('Inflation')\n",
    "plt.ylabel('Life Expectancy')\n",
    "plt.title('Inflation vs Life Expectancy')\n",
    "\n",
    "\"\"\"\n",
    "1. What is the lmplot module in Seaborn that was used in this plot?\n",
    "#Implot\n",
    "\n",
    "\n",
    "2. What is the name of the line plotted on the graph below?\n",
    "#regression line\n",
    "\n",
    "\"\"\";"
   ]
  },
  {
   "cell_type": "markdown",
   "metadata": {},
   "source": [
    "Plot the correlation heat map for all variables excep country in the HELP foundation dataset (make sure to annotate the correlation coefficients on the heat map):"
   ]
  },
  {
   "cell_type": "code",
   "execution_count": 24,
   "metadata": {},
   "outputs": [
    {
     "data": {
      "image/png": "[encoded data removed]",
      "text/plain": [
       "<Figure size 720x576 with 2 Axes>"
      ]
     },
     "metadata": {
      "needs_background": "light"
     },
     "output_type": "display_data"
    }
   ],
   "source": [
    "# answer here\n",
    "# Drop the 'country' column\n",
    "help_foundation_df = help_foundation_df.drop(columns=['country'])\n",
    "\n",
    "# Calculate the correlation matrix\n",
    "correlation_matrix = help_foundation_df.corr()\n",
    "\n",
    "# Set up the matplotlib figure\n",
    "fig, ax = plt.subplots(figsize=(10, 8))\n",
    "\n",
    "# Create a heatmap using seaborn\n",
    "heatmap = sns.heatmap(correlation_matrix, annot=True, cmap='coolwarm', linewidths=.5, ax=ax)\n",
    "\n",
    "# Add title\n",
    "plt.title('Correlation Heatmap for HELP Foundation Dataset (excluding country)')\n",
    "\n",
    "# Show the plot\n",
    "plt.show()\n",
    "\n",
    "\"\"\"\n",
    "1. What important correlations do you see in the data?\n",
    "Negative correlations\n",
    "\n",
    "\n",
    "\n",
    "\"\"\";"
   ]
  },
  {
   "cell_type": "markdown",
   "metadata": {},
   "source": [
    "## 5. Further Readings To Consider:\n",
    "* Statistical Analysis in Python using Pandas: https://medium.com/analytics-vidhya/statistical-analysis-in-python-using-pandas-27c6a4209de2\n",
    "* How To Visualize Descriptive Statistics Functions: https://medium.com/analytics-vidhya/how-to-visualize-pandas-descriptive-statistics-functions-480c3f2ea87c\n",
    "* Finding Outliers: https://careerfoundry.com/en/blog/data-analytics/how-to-find-outliers/\n",
    "* Correlation and Scatterplots: https://www.sfu.ca/~mjbrydon/tutorials/BAinPy/08_correlation.html"
   ]
  },
  {
   "cell_type": "code",
   "execution_count": null,
   "metadata": {},
   "outputs": [],
   "source": []
  }
 ],
 "metadata": {
  "kernelspec": {
   "display_name": "Python 3",
   "language": "python",
   "name": "python3"
  },
  "language_info": {
   "codemirror_mode": {
    "name": "ipython",
    "version": 3
   },
   "file_extension": ".py",
   "mimetype": "text/x-python",
   "name": "python",
   "nbconvert_exporter": "python",
   "pygments_lexer": "ipython3",
   "version": "3.8.5"
  }
 },
 "nbformat": 4,
 "nbformat_minor": 2
}
