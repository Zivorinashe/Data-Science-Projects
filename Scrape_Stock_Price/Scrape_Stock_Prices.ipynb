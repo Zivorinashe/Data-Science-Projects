{
 "cells": [
  {
   "cell_type": "code",
   "execution_count": 1,
   "metadata": {},
   "outputs": [
    {
     "name": "stdout",
     "output_type": "stream",
     "text": [
      "The current stock price of AAPL is: Unable to find stock price for AAPL\n"
     ]
    }
   ],
   "source": [
    "import requests\n",
    "from bs4 import BeautifulSoup\n",
    "\n",
    "def get_stock_price(symbol):\n",
    "    # Yahoo Finance URL for the stock\n",
    "    url = f\"https://finance.yahoo.com/quote/{symbol}\"\n",
    "\n",
    "    # Send a GET request to the URL\n",
    "    response = requests.get(url)\n",
    "\n",
    "    # Check if the request was successful (status code 200)\n",
    "    if response.status_code == 200:\n",
    "        # Parse the HTML content of the page using BeautifulSoup\n",
    "        soup = BeautifulSoup(response.text, 'html.parser')\n",
    "\n",
    "        # Extract the stock price using the appropriate HTML tag and class\n",
    "        price_element = soup.find('span', {'data-reactid': '50'})\n",
    "\n",
    "        if price_element:\n",
    "            return price_element.text\n",
    "        else:\n",
    "            return f\"Unable to find stock price for {symbol}\"\n",
    "\n",
    "    else:\n",
    "        return f\"Failed to retrieve data for {symbol}. Status code: {response.status_code}\"\n",
    "\n",
    "# Example usage\n",
    "symbol = \"AAPL\"  # Replace with the desired stock symbol\n",
    "stock_price = get_stock_price(symbol)\n",
    "print(f\"The current stock price of {symbol} is: {stock_price}\")\n"
   ]
  },
  {
   "cell_type": "code",
   "execution_count": null,
   "metadata": {},
   "outputs": [],
   "source": []
  }
 ],
 "metadata": {
  "kernelspec": {
   "display_name": "Python 3",
   "language": "python",
   "name": "python3"
  },
  "language_info": {
   "codemirror_mode": {
    "name": "ipython",
    "version": 3
   },
   "file_extension": ".py",
   "mimetype": "text/x-python",
   "name": "python",
   "nbconvert_exporter": "python",
   "pygments_lexer": "ipython3",
   "version": "3.8.5"
  }
 },
 "nbformat": 4,
 "nbformat_minor": 4
}
